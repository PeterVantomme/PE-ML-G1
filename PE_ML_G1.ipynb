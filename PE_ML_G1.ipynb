{
  "nbformat": 4,
  "nbformat_minor": 0,
  "metadata": {
    "colab": {
      "name": "PE-ML G1.ipynb",
      "provenance": [],
      "collapsed_sections": [
        "gpjOKALydRGU",
        "GR7zBU5-pSv0",
        "JJUTEB-XbtrU",
        "bFXcpPsdpDe7",
        "o3j7CPBHgE7d"
      ],
      "toc_visible": true
    },
    "kernelspec": {
      "name": "python3",
      "display_name": "Python 3"
    }
  },
  "cells": [
    {
      "cell_type": "markdown",
      "metadata": {
        "id": "gpjOKALydRGU"
      },
      "source": [
        "# Imports"
      ]
    },
    {
      "cell_type": "markdown",
      "metadata": {
        "id": "jjWRFYRPhTbj"
      },
      "source": [
        "Alle nodige imports voor het volledige document."
      ]
    },
    {
      "cell_type": "code",
      "metadata": {
        "id": "kzt9qfqkdTfz"
      },
      "source": [
        "import pandas as pd\r\n",
        "import random\r\n",
        "import numpy as np\r\n",
        "import matplotlib.pyplot as plt"
      ],
      "execution_count": null,
      "outputs": []
    },
    {
      "cell_type": "markdown",
      "metadata": {
        "id": "YcfYMOhwp6Kl"
      },
      "source": [
        "#Methodes\r\n"
      ]
    },
    {
      "cell_type": "markdown",
      "metadata": {
        "id": "2_g4bwalcQez"
      },
      "source": [
        "**Gegevens**"
      ]
    },
    {
      "cell_type": "code",
      "metadata": {
        "id": "6tGYNQqEgLSQ"
      },
      "source": [
        "#excel bestand inlezen en data returnen\r\n",
        "def read_excel(filename):\r\n",
        "  return pd.ExcelFile(filename)\r\n",
        "\r\n",
        "#tabel maken van yearly tablad en returnen\r\n",
        "def getYearly(filename):\r\n",
        "  data = pd.read_excel(read_excel(filename), \"Yearly\")\r\n",
        "  data[\"Category\"] = data[\"Category\"].str.strip()\r\n",
        "  return data\r\n",
        "\r\n",
        "#tabel maken van quarterly tablad en returnen\r\n",
        "def getQuarterly(filename):\r\n",
        "  data = pd.read_excel(read_excel(filename), \"Quarterly\") \r\n",
        "  data[\"Category\"] = data[\"Category\"].str.strip()\r\n",
        "  return data\r\n",
        "\r\n",
        "#tabel maken van monthly tablad en returnen\r\n",
        "def getMonthly(filename):\r\n",
        "  data = pd.read_excel(read_excel(filename), \"Monthly\")\r\n",
        "  data[\"Category\"] = data[\"Category\"].str.strip()\r\n",
        "  return data\r\n",
        "\r\n",
        "#tabel maken van other tablad en returnen\r\n",
        "def getOther(filename):\r\n",
        "  data = pd.read_excel(read_excel(filename), \"Other\")\r\n",
        "  data[\"Category\"] = data[\"Category\"].str.strip()\r\n",
        "  return data"
      ],
      "execution_count": null,
      "outputs": []
    },
    {
      "cell_type": "markdown",
      "metadata": {
        "id": "rGIOkVyecV3c"
      },
      "source": [
        "**Data per categorie**"
      ]
    },
    {
      "cell_type": "code",
      "metadata": {
        "id": "1zJv2stNcc97"
      },
      "source": [
        "#van het tablad yearly de data van een gevraagde category returnen\r\n",
        "def get_categoryValues_yearly(category):\r\n",
        "  dataYearly = getYearly(\"data_export_timeseries.xlsx\")\r\n",
        "  dataYearly = dataYearly.loc[dataYearly[\"Category\"]==category]\r\n",
        "  return dataYearly\r\n",
        "\r\n",
        "#van het tablad quarterly de data van een gevraagde category returnen\r\n",
        "def get_categoryValues_quarterly(category):\r\n",
        "  dataQuarterly = getQuarterly(\"data_export_timeseries.xlsx\")\r\n",
        "  dataQuarterly = dataQuarterly.loc[dataQuarterly[\"Category\"]==category]\r\n",
        "  return dataQuarterly\r\n",
        "\r\n",
        "#van het tablad monthly de data van een gevraagde category returnen\r\n",
        "def get_catergoryValues_Montly(category):\r\n",
        "  dataMonthly = getMonthly(\"data_export_timeseries.xlsx\")\r\n",
        "  dataMonthly = dataMonthly.loc[dataMonthly[\"Category\"]==category]\r\n",
        "  return dataMonthly\r\n",
        "\r\n",
        "#van het tablad other de data van een gevraagde category returnen\r\n",
        "def get_categoryValues_Other(category):\r\n",
        "  dataOther = getOther(\"data_export_timeseries.xlsx\")\r\n",
        "  dataOther = dataOther.loc[dataOther[\"Category\"]==category]\r\n",
        "  return dataOther"
      ],
      "execution_count": null,
      "outputs": []
    },
    {
      "cell_type": "markdown",
      "metadata": {
        "id": "AEascH6dcgqM"
      },
      "source": [
        "**Lineare regressie**"
      ]
    },
    {
      "cell_type": "code",
      "metadata": {
        "id": "rHkzZF-QMBh6"
      },
      "source": [
        "#voorspelt data aan de hand van de begin data en de waarde waarmee het stijgt per meting\r\n",
        "def predict_data(start_data, increase, measurement):\r\n",
        "  return start_data + increase * (measurement-1)"
      ],
      "execution_count": null,
      "outputs": []
    },
    {
      "cell_type": "code",
      "metadata": {
        "id": "-gQiVBiGALh8"
      },
      "source": [
        "#past de increase aan met behulp van voorspellende data\r\n",
        "def delta_trick(start_data, increase, measurement, predicted_data , learning_rate):\r\n",
        "  increase += learning_rate * (predicted_data - predict_data(start_data, increase, measurement))\r\n",
        "  return increase"
      ],
      "execution_count": null,
      "outputs": []
    },
    {
      "cell_type": "code",
      "metadata": {
        "id": "9Zl3Pz0IMiPa"
      },
      "source": [
        "#algoritme om de waarde the schatten waarmee de data verandert per meting\r\n",
        "def simple_algorithm(data, num_epochs, learning_rate=0.01):\r\n",
        "  start_data = data[0]\r\n",
        "  increase = random.random()\r\n",
        "  for i in range(num_epochs):\r\n",
        "    j = random.randint(0,len(data)-1)\r\n",
        "    measurement = np.arange(1,len(data)+1)[j]\r\n",
        "    predicted_data = data[j]\r\n",
        "    increase = delta_trick(start_data, increase, measurement, predicted_data , learning_rate)\r\n",
        "  return increase"
      ],
      "execution_count": null,
      "outputs": []
    },
    {
      "cell_type": "markdown",
      "metadata": {
        "id": "WCHH-W04crGL"
      },
      "source": [
        "**Lineare regressie, per bedrijf**"
      ]
    },
    {
      "cell_type": "code",
      "metadata": {
        "id": "fVqjJZMu2_Y4"
      },
      "source": [
        "#de data opschonen door de spaties en de N te verwijderen\r\n",
        "def cleanSeries(data):\r\n",
        "  data[\"Series\"]=data[\"Series\"].str.replace(\"N\",\"\").str.strip()\r\n",
        "  return data\r\n",
        "\r\n",
        "#data opvragen en returnen van een specifiek bedrijf\r\n",
        "def getBedrijfDataId(id, data):\r\n",
        "  #zoeken in welk tablad het gevraagde id zich bevind en de data opvragen\r\n",
        "  cleanYearlyData=cleanSeries(getYearly(data))\r\n",
        "  cleanQuarterlyData=cleanSeries(getQuarterly(data))\r\n",
        "  cleanMonthlyData=cleanSeries(getMonthly(data))\r\n",
        "  if id in cleanYearlyData[\"Series\"].values:\r\n",
        "    data = cleanYearlyData.loc[cleanYearlyData[\"Series\"]==id]\r\n",
        "  elif id in cleanQuarterlyData[\"Series\"].values:\r\n",
        "    data = cleanQuarterlyData.loc[cleanQuarterlyData[\"Series\"]==id]\r\n",
        "  elif id in cleanMonthlyData[\"Series\"].values:\r\n",
        "    data = cleanMonthlyData.loc[cleanMonthlyData[\"Series\"]==id]\r\n",
        "  else:\r\n",
        "    return 0\r\n",
        "\r\n",
        "  dataSize = data.size\r\n",
        "  data = data[data.columns[6:dataSize]]\r\n",
        "  data = data.values.tolist()[0]\r\n",
        "  return [x for x in data if str(x) != 'nan']"
      ],
      "execution_count": null,
      "outputs": []
    },
    {
      "cell_type": "markdown",
      "metadata": {
        "id": "BoNz6-M8c5V0"
      },
      "source": [
        "**Plot gemiddelde cijfers per categorie**"
      ]
    },
    {
      "cell_type": "code",
      "metadata": {
        "id": "zah7E8dNPWKS"
      },
      "source": [
        "#lengte van de tabel opvragen\r\n",
        "def get_N(dataYearly):\r\n",
        "  return int(dataYearly[\"N\"].head(1))\r\n",
        "\r\n",
        "#per kolom het gemiddelde van de gegevens berekenen, toevoegen aan een array en dan deze array returnen\r\n",
        "def get_gem_category_yearly(dataYearly,n):\r\n",
        "  arr_gem_yearly = []\r\n",
        "  for i in range(1,n):\r\n",
        "    gem = dataYearly[i].mean()\r\n",
        "    arr_gem_yearly.append(gem)\r\n",
        "  return arr_gem_yearly"
      ],
      "execution_count": null,
      "outputs": []
    },
    {
      "cell_type": "markdown",
      "metadata": {
        "id": "7oXmI31deeJs"
      },
      "source": [
        "**Plot maken van gevraagd bedrijf (Cijfers in functie van tijd)**"
      ]
    },
    {
      "cell_type": "code",
      "metadata": {
        "id": "3SZhnSkMedzs"
      },
      "source": [
        "#plot maken van de gegevens van een gevraagd bedrijf en het plot returnen\r\n",
        "def plot_cijfers_van_bedrijf (id, filename):\r\n",
        "  data = getBedrijfDataId(id, filename)\r\n",
        "  x= np.arange(1,len(data)+1)\r\n",
        "  y= data\r\n",
        "  return plt.scatter(x,y)"
      ],
      "execution_count": null,
      "outputs": []
    },
    {
      "cell_type": "markdown",
      "metadata": {
        "id": "bFXcpPsdpDe7"
      },
      "source": [
        "# Plot gemiddelde cijfers per categorie (test)\r\n"
      ]
    },
    {
      "cell_type": "code",
      "metadata": {
        "id": "Sr9t9ANymHGN",
        "colab": {
          "base_uri": "https://localhost:8080/"
        },
        "outputId": "6e932c99-c52c-44de-b300-2b3714c3b67c"
      },
      "source": [
        "category = input(\"Geef een categorie op: \")\r\n",
        "dataYearly = get_categoryValues_yearly(category)\r\n",
        "n = int(get_N(dataYearly))\r\n",
        "dataCategory = get_gem_category_yearly(dataYearly,n)\r\n",
        "print(dataCategory)"
      ],
      "execution_count": null,
      "outputs": [
        {
          "output_type": "stream",
          "text": [
            "Geef een categorie op: MICRO\n",
            "[1952.920610687023, 2141.9101526717554, 2386.2825954198483, 2685.177328244276, 3040.10603053435, 3379.187328244275, 3655.9977862595406, 3564.524732824427, 3749.514656488549, 4317.783129770992, 4352.384732824427, 4416.771297709924, 4959.468702290076, 5512.499694656488, 5805.13122137405, 5929.2808396946575, 5601.931908396945, 6030.090458015269, 6121.855801526718]\n"
          ],
          "name": "stdout"
        }
      ]
    },
    {
      "cell_type": "code",
      "metadata": {
        "id": "1ZhBskFbhKNY",
        "colab": {
          "base_uri": "https://localhost:8080/",
          "height": 281
        },
        "outputId": "005d4ec7-74de-40ab-b0fe-95bd30d09db0"
      },
      "source": [
        "x = np.arange(1,len(dataCategory)+1)\r\n",
        "y = dataCategory\r\n",
        "plt.scatter(x,y)\r\n"
      ],
      "execution_count": null,
      "outputs": [
        {
          "output_type": "execute_result",
          "data": {
            "text/plain": [
              "<matplotlib.collections.PathCollection at 0x7f9b3ce1cfd0>"
            ]
          },
          "metadata": {
            "tags": []
          },
          "execution_count": 54
        },
        {
          "output_type": "display_data",
          "data": {
            "image/png": "[encoded data removed]",
            "text/plain": [
              "<Figure size 432x288 with 1 Axes>"
            ]
          },
          "metadata": {
            "tags": [],
            "needs_background": "light"
          }
        }
      ]
    },
    {
      "cell_type": "markdown",
      "metadata": {
        "id": "GR7zBU5-pSv0"
      },
      "source": [
        "# Lineaire regressie per categorie (test)\r\n",
        "\r\n"
      ]
    },
    {
      "cell_type": "code",
      "metadata": {
        "id": "PVtQsWV5pc3L",
        "colab": {
          "base_uri": "https://localhost:8080/",
          "height": 281
        },
        "outputId": "ff4b5d55-f7b3-49c0-bd6c-f7b45d46ff49"
      },
      "source": [
        "x = np.arange(1,len(dataCategory)+1)\r\n",
        "y = dataCategory\r\n",
        "plt.scatter(x,y)\r\n",
        "plt.plot(x,predict_data(dataCategory[0],simple_algorithm(dataCategory,10000),x))"
      ],
      "execution_count": null,
      "outputs": [
        {
          "output_type": "execute_result",
          "data": {
            "text/plain": [
              "[<matplotlib.lines.Line2D at 0x7f9b3ce6dcd0>]"
            ]
          },
          "metadata": {
            "tags": []
          },
          "execution_count": 55
        },
        {
          "output_type": "display_data",
          "data": {
            "image/png": "[encoded data removed]",
            "text/plain": [
              "<Figure size 432x288 with 1 Axes>"
            ]
          },
          "metadata": {
            "tags": [],
            "needs_background": "light"
          }
        }
      ]
    },
    {
      "cell_type": "markdown",
      "metadata": {
        "id": "JJUTEB-XbtrU"
      },
      "source": [
        "# Lineaire regressie per bedrijf (test)"
      ]
    },
    {
      "cell_type": "code",
      "metadata": {
        "id": "NI8EKZWzb5Tb",
        "colab": {
          "base_uri": "https://localhost:8080/"
        },
        "outputId": "bab95733-7ff8-4406-b8c1-e6f29f84d608"
      },
      "source": [
        "dataBedrijf = getBedrijfDataId(\"16\",\"data_export_timeseries.xlsx\")\r\n",
        "print(dataBedrijf)"
      ],
      "execution_count": null,
      "outputs": [
        {
          "output_type": "stream",
          "text": [
            "[3149.1, 3393.8, 3756.3, 4058.4, 4600.58, 4886.0, 5224.69, 4802.58, 4872.4, 4980.1, 5863.9, 5514.6, 5868.0, 5875.89, 6658.3, 7101.4, 7375.8, 5748.3, 5915.4, 5759.3]\n"
          ],
          "name": "stdout"
        }
      ]
    },
    {
      "cell_type": "code",
      "metadata": {
        "id": "auuf4xSbb9-r",
        "colab": {
          "base_uri": "https://localhost:8080/",
          "height": 281
        },
        "outputId": "9b3e9fe4-91af-469b-8d17-abb5c45bd053"
      },
      "source": [
        "x = np.arange(1,len(dataBedrijf)+1)\r\n",
        "y = dataBedrijf\r\n",
        "plt.scatter(x,y)\r\n",
        "plt.plot(x,predict_data(dataBedrijf[0],simple_algorithm(dataBedrijf,10000),x))"
      ],
      "execution_count": null,
      "outputs": [
        {
          "output_type": "execute_result",
          "data": {
            "text/plain": [
              "[<matplotlib.lines.Line2D at 0x7f9b3cec0490>]"
            ]
          },
          "metadata": {
            "tags": []
          },
          "execution_count": 57
        },
        {
          "output_type": "display_data",
          "data": {
            "image/png": "[encoded data removed]",
            "text/plain": [
              "<Figure size 432x288 with 1 Axes>"
            ]
          },
          "metadata": {
            "tags": [],
            "needs_background": "light"
          }
        }
      ]
    },
    {
      "cell_type": "markdown",
      "metadata": {
        "id": "o3j7CPBHgE7d"
      },
      "source": [
        "# Plot data gevraagd bedrijf (test)"
      ]
    },
    {
      "cell_type": "code",
      "metadata": {
        "colab": {
          "base_uri": "https://localhost:8080/"
        },
        "id": "-MjAb-UPgK_E",
        "outputId": "a6bc2a1b-79de-4501-bfe9-9bfeb99ff225"
      },
      "source": [
        "plot_cijfers_van_bedrijf(\"18\", \"data_export_timeseries.xlsx\")"
      ],
      "execution_count": null,
      "outputs": [
        {
          "output_type": "execute_result",
          "data": {
            "text/plain": [
              "<matplotlib.collections.PathCollection at 0x7f9b3ba7df10>"
            ]
          },
          "metadata": {
            "tags": []
          },
          "execution_count": 58
        },
        {
          "output_type": "display_data",
          "data": {
            "image/png": "[encoded data removed]",
            "text/plain": [
              "<Figure size 432x288 with 1 Axes>"
            ]
          },
          "metadata": {
            "tags": [],
            "needs_background": "light"
          }
        }
      ]
    }
  ]
}